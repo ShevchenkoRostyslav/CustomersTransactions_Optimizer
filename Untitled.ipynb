{
 "cells": [
  {
   "cell_type": "code",
   "execution_count": 4,
   "metadata": {},
   "outputs": [],
   "source": [
    "# Home assignment from Wirecard.\n",
    "# received 16.01 \n",
    "# Notebook for prototyping"
   ]
  },
  {
   "cell_type": "code",
   "execution_count": 283,
   "metadata": {},
   "outputs": [],
   "source": [
    "#Import packages\n",
    "import pandas as pd\n",
    "import numpy as np\n",
    "import scipy as sp\n",
    "from scipy.special import gamma\n",
    "from scipy.special import gammaln as lnG\n",
    "from scipy import optimize\n",
    "\n",
    "\n",
    "import datetime as dt"
   ]
  },
  {
   "cell_type": "markdown",
   "metadata": {},
   "source": [
    "# Task 1"
   ]
  },
  {
   "cell_type": "code",
   "execution_count": 31,
   "metadata": {},
   "outputs": [
    {
     "name": "stdout",
     "output_type": "stream",
     "text": [
      "(6919, 2)\n"
     ]
    },
    {
     "data": {
      "text/html": [
       "<div>\n",
       "<style scoped>\n",
       "    .dataframe tbody tr th:only-of-type {\n",
       "        vertical-align: middle;\n",
       "    }\n",
       "\n",
       "    .dataframe tbody tr th {\n",
       "        vertical-align: top;\n",
       "    }\n",
       "\n",
       "    .dataframe thead th {\n",
       "        text-align: right;\n",
       "    }\n",
       "</style>\n",
       "<table border=\"1\" class=\"dataframe\">\n",
       "  <thead>\n",
       "    <tr style=\"text-align: right;\">\n",
       "      <th></th>\n",
       "      <th>ID</th>\n",
       "      <th>date</th>\n",
       "    </tr>\n",
       "  </thead>\n",
       "  <tbody>\n",
       "    <tr>\n",
       "      <th>0</th>\n",
       "      <td>1</td>\n",
       "      <td>19970101</td>\n",
       "    </tr>\n",
       "    <tr>\n",
       "      <th>1</th>\n",
       "      <td>1</td>\n",
       "      <td>19970118</td>\n",
       "    </tr>\n",
       "    <tr>\n",
       "      <th>2</th>\n",
       "      <td>1</td>\n",
       "      <td>19970802</td>\n",
       "    </tr>\n",
       "    <tr>\n",
       "      <th>3</th>\n",
       "      <td>1</td>\n",
       "      <td>19971212</td>\n",
       "    </tr>\n",
       "    <tr>\n",
       "      <th>4</th>\n",
       "      <td>2</td>\n",
       "      <td>19970101</td>\n",
       "    </tr>\n",
       "  </tbody>\n",
       "</table>\n",
       "</div>"
      ],
      "text/plain": [
       "   ID      date\n",
       "0   1  19970101\n",
       "1   1  19970118\n",
       "2   1  19970802\n",
       "3   1  19971212\n",
       "4   2  19970101"
      ]
     },
     "execution_count": 31,
     "metadata": {},
     "output_type": "execute_result"
    }
   ],
   "source": [
    "#load the data\n",
    "df = pd.read_csv(\"all_transactions.csv\",names=['ID','date'])\n",
    "print(df.shape)\n",
    "df.head()"
   ]
  },
  {
   "cell_type": "markdown",
   "metadata": {},
   "source": [
    "## Prepare the dataset"
   ]
  },
  {
   "cell_type": "code",
   "execution_count": 32,
   "metadata": {},
   "outputs": [
    {
     "name": "stdout",
     "output_type": "stream",
     "text": [
      "Number of unique samples: 6696\n",
      "Number of unique customers: 2357\n"
     ]
    }
   ],
   "source": [
    "# Remove duplications\n",
    "df_unique = df.drop_duplicates()\n",
    "print('Number of unique samples: {}'.format(len(df_unique)))\n",
    "print('Number of unique customers: {}'.format(len(df_unique.ID.drop_duplicates())))"
   ]
  },
  {
   "cell_type": "code",
   "execution_count": 33,
   "metadata": {},
   "outputs": [
    {
     "name": "stdout",
     "output_type": "stream",
     "text": [
      "Training   data size: (4814, 2)\n",
      "Validation data size: (1882, 2)\n"
     ]
    }
   ],
   "source": [
    "# train-validation split\n",
    "split_date_b = 19970101 # Jan 1997\n",
    "split_date_e = 19971001 # Oct 1997\n",
    "#query = 'date >= {} and date < {}'.format(split_date_b,split_date_e)\n",
    "#query = (df_unique.date >= split_date_b) & df_unique.date < split_date_e\n",
    "df_train = df_unique[(df_unique.date >= split_date_b) & (df_unique.date < split_date_e)] # training part\n",
    "#df_train = df_unique.query(query) # training part\n",
    "df_val = df_unique[df_unique.date >= split_date_e] # rest is our validation part\n",
    "print('Training   data size: {}'.format(df_train.shape))\n",
    "print('Validation data size: {}'.format(df_val.shape))"
   ]
  },
  {
   "cell_type": "code",
   "execution_count": 34,
   "metadata": {},
   "outputs": [],
   "source": [
    "# save the .csv file\n",
    "df_train.reset_index(drop=True).to_csv('cal_period_transactions.csv')"
   ]
  },
  {
   "cell_type": "markdown",
   "metadata": {},
   "source": [
    "# Task 2"
   ]
  },
  {
   "cell_type": "code",
   "execution_count": 35,
   "metadata": {},
   "outputs": [
    {
     "data": {
      "text/plain": [
       "(4814, 2)"
      ]
     },
     "execution_count": 35,
     "metadata": {},
     "output_type": "execute_result"
    }
   ],
   "source": [
    "# read the .csv file \n",
    "df = pd.read_csv(\"cal_period_transactions.csv\",index_col='Unnamed: 0')\n",
    "df.shape"
   ]
  },
  {
   "cell_type": "markdown",
   "metadata": {},
   "source": [
    "## Parameters calculation "
   ]
  },
  {
   "cell_type": "markdown",
   "metadata": {},
   "source": [
    "### Convert to a proper datetime format"
   ]
  },
  {
   "cell_type": "code",
   "execution_count": 36,
   "metadata": {},
   "outputs": [],
   "source": [
    "df['datetime'] = pd.to_datetime(df['date'],format='%Y%m%d')"
   ]
  },
  {
   "cell_type": "markdown",
   "metadata": {},
   "source": [
    "### x: number of transactions done by customer"
   ]
  },
  {
   "cell_type": "code",
   "execution_count": 37,
   "metadata": {},
   "outputs": [
    {
     "data": {
      "text/html": [
       "<div>\n",
       "<style scoped>\n",
       "    .dataframe tbody tr th:only-of-type {\n",
       "        vertical-align: middle;\n",
       "    }\n",
       "\n",
       "    .dataframe tbody tr th {\n",
       "        vertical-align: top;\n",
       "    }\n",
       "\n",
       "    .dataframe thead th {\n",
       "        text-align: right;\n",
       "    }\n",
       "</style>\n",
       "<table border=\"1\" class=\"dataframe\">\n",
       "  <thead>\n",
       "    <tr style=\"text-align: right;\">\n",
       "      <th></th>\n",
       "      <th>ID</th>\n",
       "      <th>date</th>\n",
       "      <th>datetime</th>\n",
       "      <th>x</th>\n",
       "    </tr>\n",
       "  </thead>\n",
       "  <tbody>\n",
       "    <tr>\n",
       "      <th>0</th>\n",
       "      <td>1</td>\n",
       "      <td>19970101</td>\n",
       "      <td>1997-01-01</td>\n",
       "      <td>2</td>\n",
       "    </tr>\n",
       "    <tr>\n",
       "      <th>1</th>\n",
       "      <td>1</td>\n",
       "      <td>19970118</td>\n",
       "      <td>1997-01-18</td>\n",
       "      <td>2</td>\n",
       "    </tr>\n",
       "    <tr>\n",
       "      <th>2</th>\n",
       "      <td>1</td>\n",
       "      <td>19970802</td>\n",
       "      <td>1997-08-02</td>\n",
       "      <td>2</td>\n",
       "    </tr>\n",
       "    <tr>\n",
       "      <th>3</th>\n",
       "      <td>2</td>\n",
       "      <td>19970101</td>\n",
       "      <td>1997-01-01</td>\n",
       "      <td>1</td>\n",
       "    </tr>\n",
       "    <tr>\n",
       "      <th>4</th>\n",
       "      <td>2</td>\n",
       "      <td>19970113</td>\n",
       "      <td>1997-01-13</td>\n",
       "      <td>1</td>\n",
       "    </tr>\n",
       "  </tbody>\n",
       "</table>\n",
       "</div>"
      ],
      "text/plain": [
       "   ID      date   datetime  x\n",
       "0   1  19970101 1997-01-01  2\n",
       "1   1  19970118 1997-01-18  2\n",
       "2   1  19970802 1997-08-02  2\n",
       "3   2  19970101 1997-01-01  1\n",
       "4   2  19970113 1997-01-13  1"
      ]
     },
     "execution_count": 37,
     "metadata": {},
     "output_type": "execute_result"
    }
   ],
   "source": [
    "df['x'] = df.groupby('ID')['ID'].transform(lambda s: s.count() - 1)\n",
    "df.head()"
   ]
  },
  {
   "cell_type": "markdown",
   "metadata": {},
   "source": [
    "### tx: duration in weeks between customer's last and first transaction"
   ]
  },
  {
   "cell_type": "code",
   "execution_count": 38,
   "metadata": {},
   "outputs": [],
   "source": [
    "# create temp df with first and last date columns\n",
    "df_temp = df.datetime.groupby(df['ID']).agg(['first','last'])"
   ]
  },
  {
   "cell_type": "code",
   "execution_count": 39,
   "metadata": {},
   "outputs": [],
   "source": [
    "# find the difference between the transactions \n",
    "df_temp['tx_days'] = (df_temp['last'] - df_temp['first'])\n",
    "# convert it to weeks\n",
    "df_temp['tx'] = df_temp['tx_days']/np.timedelta64(1,'W')\n",
    "# round to 2 decimals as in the example\n",
    "df_temp['tx'] = df_temp['tx'].round(2)"
   ]
  },
  {
   "cell_type": "code",
   "execution_count": 40,
   "metadata": {},
   "outputs": [
    {
     "data": {
      "text/html": [
       "<div>\n",
       "<style scoped>\n",
       "    .dataframe tbody tr th:only-of-type {\n",
       "        vertical-align: middle;\n",
       "    }\n",
       "\n",
       "    .dataframe tbody tr th {\n",
       "        vertical-align: top;\n",
       "    }\n",
       "\n",
       "    .dataframe thead th {\n",
       "        text-align: right;\n",
       "    }\n",
       "</style>\n",
       "<table border=\"1\" class=\"dataframe\">\n",
       "  <thead>\n",
       "    <tr style=\"text-align: right;\">\n",
       "      <th></th>\n",
       "      <th>first</th>\n",
       "      <th>last</th>\n",
       "      <th>tx_days</th>\n",
       "      <th>tx</th>\n",
       "    </tr>\n",
       "    <tr>\n",
       "      <th>ID</th>\n",
       "      <th></th>\n",
       "      <th></th>\n",
       "      <th></th>\n",
       "      <th></th>\n",
       "    </tr>\n",
       "  </thead>\n",
       "  <tbody>\n",
       "    <tr>\n",
       "      <th>1</th>\n",
       "      <td>1997-01-01</td>\n",
       "      <td>1997-08-02</td>\n",
       "      <td>213 days</td>\n",
       "      <td>30.43</td>\n",
       "    </tr>\n",
       "    <tr>\n",
       "      <th>2</th>\n",
       "      <td>1997-01-01</td>\n",
       "      <td>1997-01-13</td>\n",
       "      <td>12 days</td>\n",
       "      <td>1.71</td>\n",
       "    </tr>\n",
       "    <tr>\n",
       "      <th>3</th>\n",
       "      <td>1997-01-01</td>\n",
       "      <td>1997-01-01</td>\n",
       "      <td>0 days</td>\n",
       "      <td>0.00</td>\n",
       "    </tr>\n",
       "    <tr>\n",
       "      <th>4</th>\n",
       "      <td>1997-01-01</td>\n",
       "      <td>1997-01-01</td>\n",
       "      <td>0 days</td>\n",
       "      <td>0.00</td>\n",
       "    </tr>\n",
       "    <tr>\n",
       "      <th>5</th>\n",
       "      <td>1997-01-01</td>\n",
       "      <td>1997-01-01</td>\n",
       "      <td>0 days</td>\n",
       "      <td>0.00</td>\n",
       "    </tr>\n",
       "  </tbody>\n",
       "</table>\n",
       "</div>"
      ],
      "text/plain": [
       "        first       last  tx_days     tx\n",
       "ID                                      \n",
       "1  1997-01-01 1997-08-02 213 days  30.43\n",
       "2  1997-01-01 1997-01-13  12 days   1.71\n",
       "3  1997-01-01 1997-01-01   0 days   0.00\n",
       "4  1997-01-01 1997-01-01   0 days   0.00\n",
       "5  1997-01-01 1997-01-01   0 days   0.00"
      ]
     },
     "execution_count": 40,
     "metadata": {},
     "output_type": "execute_result"
    }
   ],
   "source": [
    "df_temp.head()"
   ]
  },
  {
   "cell_type": "markdown",
   "metadata": {},
   "source": [
    "### T: Duration in weeks between end of calibration period and the first customer's transaction "
   ]
  },
  {
   "cell_type": "code",
   "execution_count": 41,
   "metadata": {},
   "outputs": [],
   "source": [
    "df_temp['T_days'] = dt.datetime.strptime(str(split_date_e), '%Y%m%d') - df_temp['first'] - np.timedelta64(1,'D')# -1 to take the last day into account"
   ]
  },
  {
   "cell_type": "code",
   "execution_count": 42,
   "metadata": {},
   "outputs": [],
   "source": [
    "df_temp['T'] = (df_temp['T_days'] / np.timedelta64(1,'W')).round(2)"
   ]
  },
  {
   "cell_type": "code",
   "execution_count": 43,
   "metadata": {},
   "outputs": [
    {
     "data": {
      "text/html": [
       "<div>\n",
       "<style scoped>\n",
       "    .dataframe tbody tr th:only-of-type {\n",
       "        vertical-align: middle;\n",
       "    }\n",
       "\n",
       "    .dataframe tbody tr th {\n",
       "        vertical-align: top;\n",
       "    }\n",
       "\n",
       "    .dataframe thead th {\n",
       "        text-align: right;\n",
       "    }\n",
       "</style>\n",
       "<table border=\"1\" class=\"dataframe\">\n",
       "  <thead>\n",
       "    <tr style=\"text-align: right;\">\n",
       "      <th></th>\n",
       "      <th>first</th>\n",
       "      <th>last</th>\n",
       "      <th>tx_days</th>\n",
       "      <th>tx</th>\n",
       "      <th>T_days</th>\n",
       "      <th>T</th>\n",
       "    </tr>\n",
       "    <tr>\n",
       "      <th>ID</th>\n",
       "      <th></th>\n",
       "      <th></th>\n",
       "      <th></th>\n",
       "      <th></th>\n",
       "      <th></th>\n",
       "      <th></th>\n",
       "    </tr>\n",
       "  </thead>\n",
       "  <tbody>\n",
       "    <tr>\n",
       "      <th>1</th>\n",
       "      <td>1997-01-01</td>\n",
       "      <td>1997-08-02</td>\n",
       "      <td>213 days</td>\n",
       "      <td>30.43</td>\n",
       "      <td>272 days</td>\n",
       "      <td>38.86</td>\n",
       "    </tr>\n",
       "    <tr>\n",
       "      <th>2</th>\n",
       "      <td>1997-01-01</td>\n",
       "      <td>1997-01-13</td>\n",
       "      <td>12 days</td>\n",
       "      <td>1.71</td>\n",
       "      <td>272 days</td>\n",
       "      <td>38.86</td>\n",
       "    </tr>\n",
       "    <tr>\n",
       "      <th>3</th>\n",
       "      <td>1997-01-01</td>\n",
       "      <td>1997-01-01</td>\n",
       "      <td>0 days</td>\n",
       "      <td>0.00</td>\n",
       "      <td>272 days</td>\n",
       "      <td>38.86</td>\n",
       "    </tr>\n",
       "    <tr>\n",
       "      <th>4</th>\n",
       "      <td>1997-01-01</td>\n",
       "      <td>1997-01-01</td>\n",
       "      <td>0 days</td>\n",
       "      <td>0.00</td>\n",
       "      <td>272 days</td>\n",
       "      <td>38.86</td>\n",
       "    </tr>\n",
       "    <tr>\n",
       "      <th>5</th>\n",
       "      <td>1997-01-01</td>\n",
       "      <td>1997-01-01</td>\n",
       "      <td>0 days</td>\n",
       "      <td>0.00</td>\n",
       "      <td>272 days</td>\n",
       "      <td>38.86</td>\n",
       "    </tr>\n",
       "  </tbody>\n",
       "</table>\n",
       "</div>"
      ],
      "text/plain": [
       "        first       last  tx_days     tx   T_days      T\n",
       "ID                                                      \n",
       "1  1997-01-01 1997-08-02 213 days  30.43 272 days  38.86\n",
       "2  1997-01-01 1997-01-13  12 days   1.71 272 days  38.86\n",
       "3  1997-01-01 1997-01-01   0 days   0.00 272 days  38.86\n",
       "4  1997-01-01 1997-01-01   0 days   0.00 272 days  38.86\n",
       "5  1997-01-01 1997-01-01   0 days   0.00 272 days  38.86"
      ]
     },
     "execution_count": 43,
     "metadata": {},
     "output_type": "execute_result"
    }
   ],
   "source": [
    "df_temp.head(5)"
   ]
  },
  {
   "cell_type": "markdown",
   "metadata": {},
   "source": [
    "### Merge into the initial DF"
   ]
  },
  {
   "cell_type": "code",
   "execution_count": 44,
   "metadata": {},
   "outputs": [],
   "source": [
    "df = pd.merge(df,df_temp.drop(columns=['first','last','tx_days','T_days']),on=['ID'])"
   ]
  },
  {
   "cell_type": "code",
   "execution_count": 45,
   "metadata": {},
   "outputs": [
    {
     "data": {
      "text/html": [
       "<div>\n",
       "<style scoped>\n",
       "    .dataframe tbody tr th:only-of-type {\n",
       "        vertical-align: middle;\n",
       "    }\n",
       "\n",
       "    .dataframe tbody tr th {\n",
       "        vertical-align: top;\n",
       "    }\n",
       "\n",
       "    .dataframe thead th {\n",
       "        text-align: right;\n",
       "    }\n",
       "</style>\n",
       "<table border=\"1\" class=\"dataframe\">\n",
       "  <thead>\n",
       "    <tr style=\"text-align: right;\">\n",
       "      <th></th>\n",
       "      <th>ID</th>\n",
       "      <th>date</th>\n",
       "      <th>datetime</th>\n",
       "      <th>x</th>\n",
       "      <th>tx</th>\n",
       "      <th>T</th>\n",
       "    </tr>\n",
       "  </thead>\n",
       "  <tbody>\n",
       "    <tr>\n",
       "      <th>0</th>\n",
       "      <td>1</td>\n",
       "      <td>19970101</td>\n",
       "      <td>1997-01-01</td>\n",
       "      <td>2</td>\n",
       "      <td>30.43</td>\n",
       "      <td>38.86</td>\n",
       "    </tr>\n",
       "    <tr>\n",
       "      <th>1</th>\n",
       "      <td>1</td>\n",
       "      <td>19970118</td>\n",
       "      <td>1997-01-18</td>\n",
       "      <td>2</td>\n",
       "      <td>30.43</td>\n",
       "      <td>38.86</td>\n",
       "    </tr>\n",
       "    <tr>\n",
       "      <th>2</th>\n",
       "      <td>1</td>\n",
       "      <td>19970802</td>\n",
       "      <td>1997-08-02</td>\n",
       "      <td>2</td>\n",
       "      <td>30.43</td>\n",
       "      <td>38.86</td>\n",
       "    </tr>\n",
       "    <tr>\n",
       "      <th>3</th>\n",
       "      <td>2</td>\n",
       "      <td>19970101</td>\n",
       "      <td>1997-01-01</td>\n",
       "      <td>1</td>\n",
       "      <td>1.71</td>\n",
       "      <td>38.86</td>\n",
       "    </tr>\n",
       "    <tr>\n",
       "      <th>4</th>\n",
       "      <td>2</td>\n",
       "      <td>19970113</td>\n",
       "      <td>1997-01-13</td>\n",
       "      <td>1</td>\n",
       "      <td>1.71</td>\n",
       "      <td>38.86</td>\n",
       "    </tr>\n",
       "  </tbody>\n",
       "</table>\n",
       "</div>"
      ],
      "text/plain": [
       "   ID      date   datetime  x     tx      T\n",
       "0   1  19970101 1997-01-01  2  30.43  38.86\n",
       "1   1  19970118 1997-01-18  2  30.43  38.86\n",
       "2   1  19970802 1997-08-02  2  30.43  38.86\n",
       "3   2  19970101 1997-01-01  1   1.71  38.86\n",
       "4   2  19970113 1997-01-13  1   1.71  38.86"
      ]
     },
     "execution_count": 45,
     "metadata": {},
     "output_type": "execute_result"
    }
   ],
   "source": [
    "df.head()"
   ]
  },
  {
   "cell_type": "markdown",
   "metadata": {},
   "source": [
    "### Prepare the output df"
   ]
  },
  {
   "cell_type": "code",
   "execution_count": 46,
   "metadata": {},
   "outputs": [],
   "source": [
    "# only unique customers should be stored\n",
    "df_out = df.drop_duplicates(subset=['ID'])"
   ]
  },
  {
   "cell_type": "code",
   "execution_count": 47,
   "metadata": {},
   "outputs": [
    {
     "data": {
      "text/html": [
       "<div>\n",
       "<style scoped>\n",
       "    .dataframe tbody tr th:only-of-type {\n",
       "        vertical-align: middle;\n",
       "    }\n",
       "\n",
       "    .dataframe tbody tr th {\n",
       "        vertical-align: top;\n",
       "    }\n",
       "\n",
       "    .dataframe thead th {\n",
       "        text-align: right;\n",
       "    }\n",
       "</style>\n",
       "<table border=\"1\" class=\"dataframe\">\n",
       "  <thead>\n",
       "    <tr style=\"text-align: right;\">\n",
       "      <th></th>\n",
       "      <th>ID</th>\n",
       "      <th>date</th>\n",
       "      <th>datetime</th>\n",
       "      <th>x</th>\n",
       "      <th>tx</th>\n",
       "      <th>T</th>\n",
       "    </tr>\n",
       "  </thead>\n",
       "  <tbody>\n",
       "    <tr>\n",
       "      <th>0</th>\n",
       "      <td>1</td>\n",
       "      <td>19970101</td>\n",
       "      <td>1997-01-01</td>\n",
       "      <td>2</td>\n",
       "      <td>30.43</td>\n",
       "      <td>38.86</td>\n",
       "    </tr>\n",
       "    <tr>\n",
       "      <th>3</th>\n",
       "      <td>2</td>\n",
       "      <td>19970101</td>\n",
       "      <td>1997-01-01</td>\n",
       "      <td>1</td>\n",
       "      <td>1.71</td>\n",
       "      <td>38.86</td>\n",
       "    </tr>\n",
       "    <tr>\n",
       "      <th>5</th>\n",
       "      <td>3</td>\n",
       "      <td>19970101</td>\n",
       "      <td>1997-01-01</td>\n",
       "      <td>0</td>\n",
       "      <td>0.00</td>\n",
       "      <td>38.86</td>\n",
       "    </tr>\n",
       "    <tr>\n",
       "      <th>6</th>\n",
       "      <td>4</td>\n",
       "      <td>19970101</td>\n",
       "      <td>1997-01-01</td>\n",
       "      <td>0</td>\n",
       "      <td>0.00</td>\n",
       "      <td>38.86</td>\n",
       "    </tr>\n",
       "    <tr>\n",
       "      <th>7</th>\n",
       "      <td>5</td>\n",
       "      <td>19970101</td>\n",
       "      <td>1997-01-01</td>\n",
       "      <td>0</td>\n",
       "      <td>0.00</td>\n",
       "      <td>38.86</td>\n",
       "    </tr>\n",
       "  </tbody>\n",
       "</table>\n",
       "</div>"
      ],
      "text/plain": [
       "   ID      date   datetime  x     tx      T\n",
       "0   1  19970101 1997-01-01  2  30.43  38.86\n",
       "3   2  19970101 1997-01-01  1   1.71  38.86\n",
       "5   3  19970101 1997-01-01  0   0.00  38.86\n",
       "6   4  19970101 1997-01-01  0   0.00  38.86\n",
       "7   5  19970101 1997-01-01  0   0.00  38.86"
      ]
     },
     "execution_count": 47,
     "metadata": {},
     "output_type": "execute_result"
    }
   ],
   "source": [
    "df_out.head()"
   ]
  },
  {
   "cell_type": "code",
   "execution_count": 48,
   "metadata": {},
   "outputs": [],
   "source": [
    "# prepare the output df\n",
    "df_out = df_out.reset_index().drop(columns=['date','datetime','index'])\n",
    "# rename ID column\n",
    "df_out.rename(columns={'ID': 'Customer ID'},inplace=True)\n",
    "# Save into .csv file\n",
    "df_out.to_csv('summary_customers.csv')"
   ]
  },
  {
   "cell_type": "code",
   "execution_count": 49,
   "metadata": {},
   "outputs": [
    {
     "data": {
      "text/html": [
       "<div>\n",
       "<style scoped>\n",
       "    .dataframe tbody tr th:only-of-type {\n",
       "        vertical-align: middle;\n",
       "    }\n",
       "\n",
       "    .dataframe tbody tr th {\n",
       "        vertical-align: top;\n",
       "    }\n",
       "\n",
       "    .dataframe thead th {\n",
       "        text-align: right;\n",
       "    }\n",
       "</style>\n",
       "<table border=\"1\" class=\"dataframe\">\n",
       "  <thead>\n",
       "    <tr style=\"text-align: right;\">\n",
       "      <th></th>\n",
       "      <th>Customer ID</th>\n",
       "      <th>x</th>\n",
       "      <th>tx</th>\n",
       "      <th>T</th>\n",
       "    </tr>\n",
       "  </thead>\n",
       "  <tbody>\n",
       "    <tr>\n",
       "      <th>0</th>\n",
       "      <td>1</td>\n",
       "      <td>2</td>\n",
       "      <td>30.43</td>\n",
       "      <td>38.86</td>\n",
       "    </tr>\n",
       "    <tr>\n",
       "      <th>1</th>\n",
       "      <td>2</td>\n",
       "      <td>1</td>\n",
       "      <td>1.71</td>\n",
       "      <td>38.86</td>\n",
       "    </tr>\n",
       "    <tr>\n",
       "      <th>2</th>\n",
       "      <td>3</td>\n",
       "      <td>0</td>\n",
       "      <td>0.00</td>\n",
       "      <td>38.86</td>\n",
       "    </tr>\n",
       "    <tr>\n",
       "      <th>3</th>\n",
       "      <td>4</td>\n",
       "      <td>0</td>\n",
       "      <td>0.00</td>\n",
       "      <td>38.86</td>\n",
       "    </tr>\n",
       "    <tr>\n",
       "      <th>4</th>\n",
       "      <td>5</td>\n",
       "      <td>0</td>\n",
       "      <td>0.00</td>\n",
       "      <td>38.86</td>\n",
       "    </tr>\n",
       "  </tbody>\n",
       "</table>\n",
       "</div>"
      ],
      "text/plain": [
       "   Customer ID  x     tx      T\n",
       "0            1  2  30.43  38.86\n",
       "1            2  1   1.71  38.86\n",
       "2            3  0   0.00  38.86\n",
       "3            4  0   0.00  38.86\n",
       "4            5  0   0.00  38.86"
      ]
     },
     "execution_count": 49,
     "metadata": {},
     "output_type": "execute_result"
    }
   ],
   "source": [
    "df_out.head()"
   ]
  },
  {
   "cell_type": "code",
   "execution_count": 50,
   "metadata": {},
   "outputs": [],
   "source": [
    "# clean the memory\n",
    "del df_temp"
   ]
  },
  {
   "cell_type": "markdown",
   "metadata": {},
   "source": [
    "To be omplemented\n",
    "* check whether dates are in chronological order, i.e. avoid negative values "
   ]
  },
  {
   "cell_type": "code",
   "execution_count": 51,
   "metadata": {},
   "outputs": [],
   "source": [
    "df_test = pd.read_csv('summary_customers.csv')"
   ]
  },
  {
   "cell_type": "markdown",
   "metadata": {},
   "source": [
    "# Task 3"
   ]
  },
  {
   "cell_type": "markdown",
   "metadata": {},
   "source": [
    "The aim of this assignment is to fit a model to the data, so that predictions about the customers’ purchase behavior in future can be made. The model is defined by four parameters namely r, α, a, b and they are always greater than 0. For fitting the model (i.e. finding the parameters r, α, a, b), Maximum Likelihood Estimation (MLE) can be used."
   ]
  },
  {
   "cell_type": "code",
   "execution_count": 73,
   "metadata": {},
   "outputs": [
    {
     "data": {
      "text/html": [
       "<div>\n",
       "<style scoped>\n",
       "    .dataframe tbody tr th:only-of-type {\n",
       "        vertical-align: middle;\n",
       "    }\n",
       "\n",
       "    .dataframe tbody tr th {\n",
       "        vertical-align: top;\n",
       "    }\n",
       "\n",
       "    .dataframe thead th {\n",
       "        text-align: right;\n",
       "    }\n",
       "</style>\n",
       "<table border=\"1\" class=\"dataframe\">\n",
       "  <thead>\n",
       "    <tr style=\"text-align: right;\">\n",
       "      <th></th>\n",
       "      <th>Customer ID</th>\n",
       "      <th>x</th>\n",
       "      <th>tx</th>\n",
       "      <th>T</th>\n",
       "    </tr>\n",
       "  </thead>\n",
       "  <tbody>\n",
       "    <tr>\n",
       "      <th>0</th>\n",
       "      <td>1</td>\n",
       "      <td>2</td>\n",
       "      <td>30.43</td>\n",
       "      <td>38.86</td>\n",
       "    </tr>\n",
       "    <tr>\n",
       "      <th>1</th>\n",
       "      <td>2</td>\n",
       "      <td>1</td>\n",
       "      <td>1.71</td>\n",
       "      <td>38.86</td>\n",
       "    </tr>\n",
       "    <tr>\n",
       "      <th>2</th>\n",
       "      <td>3</td>\n",
       "      <td>0</td>\n",
       "      <td>0.00</td>\n",
       "      <td>38.86</td>\n",
       "    </tr>\n",
       "    <tr>\n",
       "      <th>3</th>\n",
       "      <td>4</td>\n",
       "      <td>0</td>\n",
       "      <td>0.00</td>\n",
       "      <td>38.86</td>\n",
       "    </tr>\n",
       "    <tr>\n",
       "      <th>4</th>\n",
       "      <td>5</td>\n",
       "      <td>0</td>\n",
       "      <td>0.00</td>\n",
       "      <td>38.86</td>\n",
       "    </tr>\n",
       "  </tbody>\n",
       "</table>\n",
       "</div>"
      ],
      "text/plain": [
       "   Customer ID  x     tx      T\n",
       "0            1  2  30.43  38.86\n",
       "1            2  1   1.71  38.86\n",
       "2            3  0   0.00  38.86\n",
       "3            4  0   0.00  38.86\n",
       "4            5  0   0.00  38.86"
      ]
     },
     "execution_count": 73,
     "metadata": {},
     "output_type": "execute_result"
    }
   ],
   "source": [
    "# load the .csv file\n",
    "df = pd.read_csv('summary_customers.csv',index_col='Unnamed: 0')\n",
    "df.head()"
   ]
  },
  {
   "cell_type": "code",
   "execution_count": 161,
   "metadata": {},
   "outputs": [],
   "source": [
    "#implementing loss function\n",
    "\n",
    "r,alpha,a,b = 0.1,0.1,0.1,2\n",
    "\n",
    "def delta(x):\n",
    "    return (x>0).astype(int)\n",
    "#    if(x>0): return 1\n",
    "#    else: return 0\n",
    "\n",
    "def loss(r,alpha,a,b,\n",
    "        x,tx,T):\n",
    "    lnA1 = lnG(r+x) + r*np.log(alpha) - lnG(r)\n",
    "    lnA2 = lnG(a+b) + lnG(b+x) - lnG(b) - lnG(a+b+x)\n",
    "    lnA3 = -(r+x)*np.log(alpha+T)\n",
    "    lnA4 = np.log(alpha) - np.log(b+x-1) - (r+x)*np.log(alpha + tx)\n",
    "    \n",
    "    out = lnA1 + lnA2 + np.log(np.exp(lnA3) + delta(x)*np.exp(lnA4))\n",
    "\n",
    "def obj_fi(df,r,alpha,a,b):\n",
    "    lnA1 = lnG(r+df.x) + r*np.log(alpha) - lnG(r)\n",
    "    print('1: ',lnA1.isnull().values.any())\n",
    "    lnA2 = lnG(a+b) + lnG(b+df.x) - lnG(b) - lnG(a+b+df.x)\n",
    "    print('2: ',lnA2.isnull().values.any())\n",
    "    lnA3 = -(r+df.x)*np.log(alpha+df['T'])\n",
    "    print('3: ',lnA3.isnull().values.any())\n",
    "    lnA4 = np.log(alpha) - np.log(b+df.x-1) - (r+df.x)*np.log(alpha + df.tx)\n",
    "    print('4: ',lnA4.isnull().values.any())\n",
    "    out = (lnA1 + lnA2 + np.log(np.exp(lnA3) + delta(df.x)*np.exp(lnA4))).isnull()\n",
    "    print('l: ',(np.log(np.exp(lnA3) + delta(df.x)*np.exp(lnA4))).isnull().values.any())\n",
    "    print('NANS:',df[out],len(df[out]))\n",
    "    return lnA1 + lnA2 + np.log(np.exp(lnA3) + delta(df.x)*np.exp(lnA4))\n",
    "\n",
    "def obj_f(df,r,alpha,a,b):\n",
    "    N = len(df)\n",
    "    ll = obj_fi(df,r,alpha,a,b)\n",
    "    \n",
    "    return ll.sum() * (-1) / N"
   ]
  },
  {
   "cell_type": "code",
   "execution_count": 162,
   "metadata": {},
   "outputs": [
    {
     "name": "stdout",
     "output_type": "stream",
     "text": [
      "1:  False\n",
      "2:  False\n",
      "3:  False\n",
      "4:  False\n",
      "l:  False\n",
      "NANS: Empty DataFrame\n",
      "Columns: [Customer ID, x, tx, T]\n",
      "Index: [] 0\n",
      "4.382198327848188\n"
     ]
    }
   ],
   "source": [
    "print(obj_f(df,r,alpha,a,b))"
   ]
  },
  {
   "cell_type": "code",
   "execution_count": 405,
   "metadata": {},
   "outputs": [],
   "source": [
    "# Implementing in the form of class\n",
    "class CustomFunction:\n",
    "    def __init__(self,num_iter=5, verbose=False):\n",
    "        self.num_iter = num_iter\n",
    "        self.verbose = verbose\n",
    "        \n",
    "        #initialize parameters\n",
    "        self.__initialize_par()\n",
    "        \n",
    "    def __obj_f(self, params, df):\n",
    "        #update parameters\n",
    "        self.__update_params(params)\n",
    "        #normalise alpha\n",
    "        self.alpha*=self.norm\n",
    "        # protection from negative parameters\n",
    "        if self.r <=0 or self.b <=0 or self.alpha <= 0 or self.a <= 0:\n",
    "            return np.inf\n",
    "        N = len(df)\n",
    "        obj_i = self.__loss(df)\n",
    "        out = obj_i.sum() * (-1) / N\n",
    "        #print(' NLL: ',out,' Pars: r = ',self.r,' alpha = ',self.alpha,' a = ',self.a,' b = ',self.b)\n",
    "        \n",
    "        return out\n",
    "    \n",
    "    def __loss(self, df):\n",
    "        lnA1 = lnG(self.r+df.x) + self.r*np.log(self.alpha) - lnG(self.r)\n",
    "        lnA2 = lnG(self.a+self.b) + lnG(self.b+df.x) - lnG(self.b) - lnG(self.a+self.b+df.x)\n",
    "        lnA3 = -(self.r+df.x)*np.log(self.alpha+df['T'])\n",
    "        lnA4 = np.log(self.alpha) - np.log(self.b+df.x-1) - (self.r+df.x)*np.log(self.alpha + df.tx)\n",
    "        deltaA4 = self.__deltaA4(df.x,np.exp(lnA4))\n",
    "        out = lnA1 + lnA2 + np.log(np.exp(lnA3) + deltaA4)\n",
    "#         if self.b < 1.0000001:\n",
    "#             print(' dA4: ',deltaA4)\n",
    "        return out\n",
    "    \n",
    "    def __deltaA4(self,x,A4):\n",
    "        \"\"\"function to change NaN -> 0 at A4\"\"\"\n",
    "        A4[x <= 0] = 0\n",
    "        return A4\n",
    "    \n",
    "    def __update_params(self, new_params):\n",
    "        \"\"\" Update model parameters.\"\"\"\n",
    "        self.r = new_params[0].copy()\n",
    "        self.alpha = new_params[1].copy()\n",
    "        self.a = new_params[2].copy()\n",
    "        self.b = new_params[3].copy()\n",
    "    \n",
    "    def __initialize_par(self):\n",
    "        # initialise with Gaus(1,0.05)\n",
    "        self.r, self.alpha, self.a, self.b = np.random.normal(1, 0.05,4)\n",
    "    \n",
    "    def set_r(r):\n",
    "        if r <= 0: \n",
    "            raise ValueError('r should be positive')\n",
    "        self.r = r\n",
    "        \n",
    "    def set_alpha(alpha):\n",
    "        if alpha <= 0: \n",
    "            raise ValueError('alpha should be positive')\n",
    "        self.alpha = alpha\n",
    "    \n",
    "    def set_a(a):\n",
    "        if a <= 0: \n",
    "            raise ValueError('a should be positive')\n",
    "        self.a = a\n",
    "        \n",
    "    def set_b(b):\n",
    "        if b <= 0: \n",
    "            raise ValueError('b should be positive')\n",
    "        self.b = b\n",
    "    \n",
    "    def set_parameters(r, alpha, a, b):\n",
    "        self.set_r(r), self.set_alpha(alpha), self.set_a(a), self.set_b(b)\n",
    "    \n",
    "    def fit(self, df, minimizer = 'Nelder-Mead'):\n",
    "        \n",
    "        norm_df = self.__normalise_data(df)\n",
    "\n",
    "        for i in range(1,self.num_iter+1):\n",
    "            print('Step ',i)\n",
    "            initial_pars = [self.r,self.alpha,self.a,self.b]\n",
    "            print('Initialisation: r = ',self.r, ' alpha = ',self.alpha, ' a = ',self.a, ' b = ',self.b)\n",
    "            self.res = sp.optimize.minimize(self.__obj_f,x0 = initial_pars,args=(norm_df), method=minimizer) \n",
    "            self.print_final_results()\n",
    "    \n",
    "    def __normalise_data(self,df):\n",
    "        \"\"\"function to normnalise parameters tx and T\n",
    "        \"\"\"\n",
    "        df_temp = df.copy()\n",
    "        self.__norm_sf(df)\n",
    "        df_temp['tx']*=self.norm\n",
    "        df_temp['T']*=self.norm\n",
    "        return df_temp\n",
    "    \n",
    "    def __norm_sf(self,df):\n",
    "        \"\"\"function to compute the normalisation factor\n",
    "        \"\"\"\n",
    "        max_T = df['T'].max()\n",
    "        self.norm = 10./ max_T\n",
    "    \n",
    "    def print_final_results(self):\n",
    "        \"\"\"function print final results\n",
    "        \"\"\"\n",
    "        print('*********Fit Success: ',self.res.success,'*********')\n",
    "        print('Fit status',self.res.status)\n",
    "        print('NLL: ',self.res.fun)\n",
    "        print('Optimized parameters: r = ',self.r, ' alpha = ',self.alpha, ' a = ',self.a, ' b = ',self.b)\n",
    "        if self.verbose:\n",
    "            print(self.res.message)\n"
   ]
  },
  {
   "cell_type": "code",
   "execution_count": 406,
   "metadata": {},
   "outputs": [
    {
     "name": "stdout",
     "output_type": "stream",
     "text": [
      "Step  1\n",
      "Initialisation: r =  1.006091063549572  alpha =  1.056474195395596  a =  1.0599458939950754  b =  1.0092578208741971\n",
      "*********Fit Success:  True *********\n",
      "NLL:  2.6702617559153983\n",
      "Optimized parameters: r =  0.10114228876708076  alpha =  0.47115812418405345  a =  0.35961769442661784  b =  1.2010818402140624\n",
      "b'CONVERGENCE: REL_REDUCTION_OF_F_<=_FACTR*EPSMCH'\n",
      "Step  2\n",
      "Initialisation: r =  0.10114228876708076  alpha =  0.47115812418405345  a =  0.35961769442661784  b =  1.2010818402140624\n",
      "*********Fit Success:  True *********\n",
      "NLL:  2.9180056382264246\n",
      "Optimized parameters: r =  0.10114228876708076  alpha =  0.12124501394340027  a =  0.35961769442661784  b =  1.2010818502140623\n",
      "b'CONVERGENCE: REL_REDUCTION_OF_F_<=_FACTR*EPSMCH'\n",
      "Step  3\n",
      "Initialisation: r =  0.10114228876708076  alpha =  0.12124501394340027  a =  0.35961769442661784  b =  1.2010818502140623\n",
      "*********Fit Success:  True *********\n",
      "NLL:  3.142724857520198\n",
      "Optimized parameters: r =  0.10114228876708076  alpha =  0.031200466789346442  a =  0.35961769442661784  b =  1.2010818602140623\n",
      "b'CONVERGENCE: REL_REDUCTION_OF_F_<=_FACTR*EPSMCH'\n",
      "Step  4\n",
      "Initialisation: r =  0.10114228876708076  alpha =  0.031200466789346442  a =  0.35961769442661784  b =  1.2010818602140623\n",
      "*********Fit Success:  True *********\n",
      "NLL:  3.3300023933250125\n",
      "Optimized parameters: r =  0.10114228876708076  alpha =  0.008028941530969233  a =  0.35961769442661784  b =  1.2010818702140622\n",
      "b'CONVERGENCE: REL_REDUCTION_OF_F_<=_FACTR*EPSMCH'\n",
      "Step  5\n",
      "Initialisation: r =  0.10114228876708076  alpha =  0.008028941530969233  a =  0.35961769442661784  b =  1.2010818702140622\n",
      "*********Fit Success:  True *********\n",
      "NLL:  3.4917507732867947\n",
      "Optimized parameters: r =  0.10114228876708076  alpha =  0.0020661197969555414  a =  0.35961769442661784  b =  1.2010818802140621\n",
      "b'CONVERGENCE: REL_REDUCTION_OF_F_<=_FACTR*EPSMCH'\n",
      "*********Fit Success:  True *********\n",
      "NLL:  3.4917507732867947\n",
      "Optimized parameters: r =  0.10114228876708076  alpha =  0.0020661197969555414  a =  0.35961769442661784  b =  1.2010818802140621\n",
      "b'CONVERGENCE: REL_REDUCTION_OF_F_<=_FACTR*EPSMCH'\n"
     ]
    }
   ],
   "source": [
    "#np.random.seed(1)\n",
    "\n",
    "model = CustomFunction(num_iter=5)\n",
    "model.fit(df,minimizer='L-BFGS-B')\n",
    "model.print_final_results()"
   ]
  },
  {
   "cell_type": "code",
   "execution_count": 402,
   "metadata": {},
   "outputs": [
    {
     "data": {
      "text/plain": [
       "nan"
      ]
     },
     "execution_count": 402,
     "metadata": {},
     "output_type": "execute_result"
    }
   ],
   "source": [
    "np.nan*0"
   ]
  },
  {
   "cell_type": "code",
   "execution_count": null,
   "metadata": {},
   "outputs": [],
   "source": []
  }
 ],
 "metadata": {
  "kernelspec": {
   "display_name": "Python 3",
   "language": "python",
   "name": "python3"
  },
  "language_info": {
   "codemirror_mode": {
    "name": "ipython",
    "version": 3
   },
   "file_extension": ".py",
   "mimetype": "text/x-python",
   "name": "python",
   "nbconvert_exporter": "python",
   "pygments_lexer": "ipython3",
   "version": "3.6.6"
  },
  "toc": {
   "base_numbering": 1,
   "nav_menu": {},
   "number_sections": true,
   "sideBar": true,
   "skip_h1_title": false,
   "title_cell": "Table of Contents",
   "title_sidebar": "Contents",
   "toc_cell": false,
   "toc_position": {},
   "toc_section_display": true,
   "toc_window_display": false
  }
 },
 "nbformat": 4,
 "nbformat_minor": 2
}
