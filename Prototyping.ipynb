{
 "cells": [
  {
   "cell_type": "code",
   "execution_count": 1,
   "metadata": {},
   "outputs": [],
   "source": [
    "# Home assignment from Wirecard.\n",
    "# received 16.01 \n",
    "# Notebook for prototyping"
   ]
  },
  {
   "cell_type": "code",
   "execution_count": 2,
   "metadata": {},
   "outputs": [],
   "source": [
    "#Import packages\n",
    "import pandas as pd\n",
    "import numpy as np\n",
    "import scipy as sp\n",
    "from scipy.special import gamma\n",
    "from scipy.special import gammaln as lnG\n",
    "from scipy import optimize\n",
    "\n",
    "\n",
    "import datetime as dt"
   ]
  },
  {
   "cell_type": "markdown",
   "metadata": {},
   "source": [
    "# Task 1"
   ]
  },
  {
   "cell_type": "code",
   "execution_count": 3,
   "metadata": {},
   "outputs": [
    {
     "name": "stdout",
     "output_type": "stream",
     "text": [
      "(6919, 2)\n"
     ]
    },
    {
     "data": {
      "text/html": [
       "<div>\n",
       "<style scoped>\n",
       "    .dataframe tbody tr th:only-of-type {\n",
       "        vertical-align: middle;\n",
       "    }\n",
       "\n",
       "    .dataframe tbody tr th {\n",
       "        vertical-align: top;\n",
       "    }\n",
       "\n",
       "    .dataframe thead th {\n",
       "        text-align: right;\n",
       "    }\n",
       "</style>\n",
       "<table border=\"1\" class=\"dataframe\">\n",
       "  <thead>\n",
       "    <tr style=\"text-align: right;\">\n",
       "      <th></th>\n",
       "      <th>ID</th>\n",
       "      <th>date</th>\n",
       "    </tr>\n",
       "  </thead>\n",
       "  <tbody>\n",
       "    <tr>\n",
       "      <th>0</th>\n",
       "      <td>1</td>\n",
       "      <td>19970101</td>\n",
       "    </tr>\n",
       "    <tr>\n",
       "      <th>1</th>\n",
       "      <td>1</td>\n",
       "      <td>19970118</td>\n",
       "    </tr>\n",
       "    <tr>\n",
       "      <th>2</th>\n",
       "      <td>1</td>\n",
       "      <td>19970802</td>\n",
       "    </tr>\n",
       "    <tr>\n",
       "      <th>3</th>\n",
       "      <td>1</td>\n",
       "      <td>19971212</td>\n",
       "    </tr>\n",
       "    <tr>\n",
       "      <th>4</th>\n",
       "      <td>2</td>\n",
       "      <td>19970101</td>\n",
       "    </tr>\n",
       "  </tbody>\n",
       "</table>\n",
       "</div>"
      ],
      "text/plain": [
       "   ID      date\n",
       "0   1  19970101\n",
       "1   1  19970118\n",
       "2   1  19970802\n",
       "3   1  19971212\n",
       "4   2  19970101"
      ]
     },
     "execution_count": 3,
     "metadata": {},
     "output_type": "execute_result"
    }
   ],
   "source": [
    "#load the data\n",
    "df = pd.read_csv(\"all_transactions.csv\",names=['ID','date'])\n",
    "print(df.shape)\n",
    "df.head()"
   ]
  },
  {
   "cell_type": "markdown",
   "metadata": {},
   "source": [
    "## Prepare the dataset"
   ]
  },
  {
   "cell_type": "code",
   "execution_count": 4,
   "metadata": {},
   "outputs": [
    {
     "name": "stdout",
     "output_type": "stream",
     "text": [
      "Number of unique samples: 6696\n",
      "Number of unique customers: 2357\n"
     ]
    }
   ],
   "source": [
    "# Remove duplications\n",
    "df_unique = df.drop_duplicates()\n",
    "print('Number of unique samples: {}'.format(len(df_unique)))\n",
    "print('Number of unique customers: {}'.format(len(df_unique.ID.drop_duplicates())))"
   ]
  },
  {
   "cell_type": "code",
   "execution_count": 5,
   "metadata": {},
   "outputs": [
    {
     "name": "stdout",
     "output_type": "stream",
     "text": [
      "Training   data size: (4814, 2)\n",
      "Validation data size: (1882, 2)\n"
     ]
    }
   ],
   "source": [
    "# train-validation split\n",
    "split_date_b = 19970101 # Jan 1997\n",
    "split_date_e = 19971001 # Oct 1997\n",
    "#query = 'date >= {} and date < {}'.format(split_date_b,split_date_e)\n",
    "#query = (df_unique.date >= split_date_b) & df_unique.date < split_date_e\n",
    "df_train = df_unique[(df_unique.date >= split_date_b) & (df_unique.date < split_date_e)] # training part\n",
    "#df_train = df_unique.query(query) # training part\n",
    "df_val = df_unique[df_unique.date >= split_date_e] # rest is our validation part\n",
    "print('Training   data size: {}'.format(df_train.shape))\n",
    "print('Validation data size: {}'.format(df_val.shape))"
   ]
  },
  {
   "cell_type": "code",
   "execution_count": 6,
   "metadata": {},
   "outputs": [],
   "source": [
    "# save the .csv file\n",
    "df_train.reset_index(drop=True).to_csv('cal_period_transactions.csv')"
   ]
  },
  {
   "cell_type": "markdown",
   "metadata": {},
   "source": [
    "# Task 2"
   ]
  },
  {
   "cell_type": "code",
   "execution_count": 7,
   "metadata": {},
   "outputs": [
    {
     "data": {
      "text/plain": [
       "(4814, 2)"
      ]
     },
     "execution_count": 7,
     "metadata": {},
     "output_type": "execute_result"
    }
   ],
   "source": [
    "# read the .csv file \n",
    "df = pd.read_csv(\"cal_period_transactions.csv\",index_col='Unnamed: 0')\n",
    "df.shape"
   ]
  },
  {
   "cell_type": "markdown",
   "metadata": {},
   "source": [
    "## Parameters calculation "
   ]
  },
  {
   "cell_type": "markdown",
   "metadata": {},
   "source": [
    "### Convert to a proper datetime format"
   ]
  },
  {
   "cell_type": "code",
   "execution_count": 8,
   "metadata": {},
   "outputs": [],
   "source": [
    "df['datetime'] = pd.to_datetime(df['date'],format='%Y%m%d')"
   ]
  },
  {
   "cell_type": "markdown",
   "metadata": {},
   "source": [
    "### x: number of transactions done by customer"
   ]
  },
  {
   "cell_type": "code",
   "execution_count": 9,
   "metadata": {},
   "outputs": [
    {
     "data": {
      "text/html": [
       "<div>\n",
       "<style scoped>\n",
       "    .dataframe tbody tr th:only-of-type {\n",
       "        vertical-align: middle;\n",
       "    }\n",
       "\n",
       "    .dataframe tbody tr th {\n",
       "        vertical-align: top;\n",
       "    }\n",
       "\n",
       "    .dataframe thead th {\n",
       "        text-align: right;\n",
       "    }\n",
       "</style>\n",
       "<table border=\"1\" class=\"dataframe\">\n",
       "  <thead>\n",
       "    <tr style=\"text-align: right;\">\n",
       "      <th></th>\n",
       "      <th>ID</th>\n",
       "      <th>date</th>\n",
       "      <th>datetime</th>\n",
       "      <th>x</th>\n",
       "    </tr>\n",
       "  </thead>\n",
       "  <tbody>\n",
       "    <tr>\n",
       "      <th>0</th>\n",
       "      <td>1</td>\n",
       "      <td>19970101</td>\n",
       "      <td>1997-01-01</td>\n",
       "      <td>2</td>\n",
       "    </tr>\n",
       "    <tr>\n",
       "      <th>1</th>\n",
       "      <td>1</td>\n",
       "      <td>19970118</td>\n",
       "      <td>1997-01-18</td>\n",
       "      <td>2</td>\n",
       "    </tr>\n",
       "    <tr>\n",
       "      <th>2</th>\n",
       "      <td>1</td>\n",
       "      <td>19970802</td>\n",
       "      <td>1997-08-02</td>\n",
       "      <td>2</td>\n",
       "    </tr>\n",
       "    <tr>\n",
       "      <th>3</th>\n",
       "      <td>2</td>\n",
       "      <td>19970101</td>\n",
       "      <td>1997-01-01</td>\n",
       "      <td>1</td>\n",
       "    </tr>\n",
       "    <tr>\n",
       "      <th>4</th>\n",
       "      <td>2</td>\n",
       "      <td>19970113</td>\n",
       "      <td>1997-01-13</td>\n",
       "      <td>1</td>\n",
       "    </tr>\n",
       "  </tbody>\n",
       "</table>\n",
       "</div>"
      ],
      "text/plain": [
       "   ID      date   datetime  x\n",
       "0   1  19970101 1997-01-01  2\n",
       "1   1  19970118 1997-01-18  2\n",
       "2   1  19970802 1997-08-02  2\n",
       "3   2  19970101 1997-01-01  1\n",
       "4   2  19970113 1997-01-13  1"
      ]
     },
     "execution_count": 9,
     "metadata": {},
     "output_type": "execute_result"
    }
   ],
   "source": [
    "df['x'] = df.groupby('ID')['ID'].transform(lambda s: s.count() - 1)\n",
    "df.head()"
   ]
  },
  {
   "cell_type": "markdown",
   "metadata": {},
   "source": [
    "### tx: duration in weeks between customer's last and first transaction"
   ]
  },
  {
   "cell_type": "code",
   "execution_count": 10,
   "metadata": {},
   "outputs": [],
   "source": [
    "# create temp df with first and last date columns\n",
    "df_temp = df.datetime.groupby(df['ID']).agg(['first','last'])"
   ]
  },
  {
   "cell_type": "code",
   "execution_count": 11,
   "metadata": {},
   "outputs": [],
   "source": [
    "# find the difference between the transactions \n",
    "df_temp['tx_days'] = (df_temp['last'] - df_temp['first'])\n",
    "# convert it to weeks\n",
    "df_temp['tx'] = df_temp['tx_days']/np.timedelta64(1,'W')\n",
    "# round to 2 decimals as in the example\n",
    "df_temp['tx'] = df_temp['tx'].round(2)"
   ]
  },
  {
   "cell_type": "code",
   "execution_count": 12,
   "metadata": {},
   "outputs": [
    {
     "data": {
      "text/html": [
       "<div>\n",
       "<style scoped>\n",
       "    .dataframe tbody tr th:only-of-type {\n",
       "        vertical-align: middle;\n",
       "    }\n",
       "\n",
       "    .dataframe tbody tr th {\n",
       "        vertical-align: top;\n",
       "    }\n",
       "\n",
       "    .dataframe thead th {\n",
       "        text-align: right;\n",
       "    }\n",
       "</style>\n",
       "<table border=\"1\" class=\"dataframe\">\n",
       "  <thead>\n",
       "    <tr style=\"text-align: right;\">\n",
       "      <th></th>\n",
       "      <th>first</th>\n",
       "      <th>last</th>\n",
       "      <th>tx_days</th>\n",
       "      <th>tx</th>\n",
       "    </tr>\n",
       "    <tr>\n",
       "      <th>ID</th>\n",
       "      <th></th>\n",
       "      <th></th>\n",
       "      <th></th>\n",
       "      <th></th>\n",
       "    </tr>\n",
       "  </thead>\n",
       "  <tbody>\n",
       "    <tr>\n",
       "      <th>1</th>\n",
       "      <td>1997-01-01</td>\n",
       "      <td>1997-08-02</td>\n",
       "      <td>213 days</td>\n",
       "      <td>30.43</td>\n",
       "    </tr>\n",
       "    <tr>\n",
       "      <th>2</th>\n",
       "      <td>1997-01-01</td>\n",
       "      <td>1997-01-13</td>\n",
       "      <td>12 days</td>\n",
       "      <td>1.71</td>\n",
       "    </tr>\n",
       "    <tr>\n",
       "      <th>3</th>\n",
       "      <td>1997-01-01</td>\n",
       "      <td>1997-01-01</td>\n",
       "      <td>0 days</td>\n",
       "      <td>0.00</td>\n",
       "    </tr>\n",
       "    <tr>\n",
       "      <th>4</th>\n",
       "      <td>1997-01-01</td>\n",
       "      <td>1997-01-01</td>\n",
       "      <td>0 days</td>\n",
       "      <td>0.00</td>\n",
       "    </tr>\n",
       "    <tr>\n",
       "      <th>5</th>\n",
       "      <td>1997-01-01</td>\n",
       "      <td>1997-01-01</td>\n",
       "      <td>0 days</td>\n",
       "      <td>0.00</td>\n",
       "    </tr>\n",
       "  </tbody>\n",
       "</table>\n",
       "</div>"
      ],
      "text/plain": [
       "        first       last  tx_days     tx\n",
       "ID                                      \n",
       "1  1997-01-01 1997-08-02 213 days  30.43\n",
       "2  1997-01-01 1997-01-13  12 days   1.71\n",
       "3  1997-01-01 1997-01-01   0 days   0.00\n",
       "4  1997-01-01 1997-01-01   0 days   0.00\n",
       "5  1997-01-01 1997-01-01   0 days   0.00"
      ]
     },
     "execution_count": 12,
     "metadata": {},
     "output_type": "execute_result"
    }
   ],
   "source": [
    "df_temp.head()"
   ]
  },
  {
   "cell_type": "markdown",
   "metadata": {},
   "source": [
    "### T: Duration in weeks between end of calibration period and the first customer's transaction "
   ]
  },
  {
   "cell_type": "code",
   "execution_count": 13,
   "metadata": {},
   "outputs": [],
   "source": [
    "df_temp['T_days'] = dt.datetime.strptime(str(split_date_e), '%Y%m%d') - df_temp['first'] - np.timedelta64(1,'D')# -1 to take the last day into account"
   ]
  },
  {
   "cell_type": "code",
   "execution_count": 14,
   "metadata": {},
   "outputs": [],
   "source": [
    "df_temp['T'] = (df_temp['T_days'] / np.timedelta64(1,'W')).round(2)"
   ]
  },
  {
   "cell_type": "code",
   "execution_count": 15,
   "metadata": {},
   "outputs": [
    {
     "data": {
      "text/html": [
       "<div>\n",
       "<style scoped>\n",
       "    .dataframe tbody tr th:only-of-type {\n",
       "        vertical-align: middle;\n",
       "    }\n",
       "\n",
       "    .dataframe tbody tr th {\n",
       "        vertical-align: top;\n",
       "    }\n",
       "\n",
       "    .dataframe thead th {\n",
       "        text-align: right;\n",
       "    }\n",
       "</style>\n",
       "<table border=\"1\" class=\"dataframe\">\n",
       "  <thead>\n",
       "    <tr style=\"text-align: right;\">\n",
       "      <th></th>\n",
       "      <th>first</th>\n",
       "      <th>last</th>\n",
       "      <th>tx_days</th>\n",
       "      <th>tx</th>\n",
       "      <th>T_days</th>\n",
       "      <th>T</th>\n",
       "    </tr>\n",
       "    <tr>\n",
       "      <th>ID</th>\n",
       "      <th></th>\n",
       "      <th></th>\n",
       "      <th></th>\n",
       "      <th></th>\n",
       "      <th></th>\n",
       "      <th></th>\n",
       "    </tr>\n",
       "  </thead>\n",
       "  <tbody>\n",
       "    <tr>\n",
       "      <th>1</th>\n",
       "      <td>1997-01-01</td>\n",
       "      <td>1997-08-02</td>\n",
       "      <td>213 days</td>\n",
       "      <td>30.43</td>\n",
       "      <td>272 days</td>\n",
       "      <td>38.86</td>\n",
       "    </tr>\n",
       "    <tr>\n",
       "      <th>2</th>\n",
       "      <td>1997-01-01</td>\n",
       "      <td>1997-01-13</td>\n",
       "      <td>12 days</td>\n",
       "      <td>1.71</td>\n",
       "      <td>272 days</td>\n",
       "      <td>38.86</td>\n",
       "    </tr>\n",
       "    <tr>\n",
       "      <th>3</th>\n",
       "      <td>1997-01-01</td>\n",
       "      <td>1997-01-01</td>\n",
       "      <td>0 days</td>\n",
       "      <td>0.00</td>\n",
       "      <td>272 days</td>\n",
       "      <td>38.86</td>\n",
       "    </tr>\n",
       "    <tr>\n",
       "      <th>4</th>\n",
       "      <td>1997-01-01</td>\n",
       "      <td>1997-01-01</td>\n",
       "      <td>0 days</td>\n",
       "      <td>0.00</td>\n",
       "      <td>272 days</td>\n",
       "      <td>38.86</td>\n",
       "    </tr>\n",
       "    <tr>\n",
       "      <th>5</th>\n",
       "      <td>1997-01-01</td>\n",
       "      <td>1997-01-01</td>\n",
       "      <td>0 days</td>\n",
       "      <td>0.00</td>\n",
       "      <td>272 days</td>\n",
       "      <td>38.86</td>\n",
       "    </tr>\n",
       "  </tbody>\n",
       "</table>\n",
       "</div>"
      ],
      "text/plain": [
       "        first       last  tx_days     tx   T_days      T\n",
       "ID                                                      \n",
       "1  1997-01-01 1997-08-02 213 days  30.43 272 days  38.86\n",
       "2  1997-01-01 1997-01-13  12 days   1.71 272 days  38.86\n",
       "3  1997-01-01 1997-01-01   0 days   0.00 272 days  38.86\n",
       "4  1997-01-01 1997-01-01   0 days   0.00 272 days  38.86\n",
       "5  1997-01-01 1997-01-01   0 days   0.00 272 days  38.86"
      ]
     },
     "execution_count": 15,
     "metadata": {},
     "output_type": "execute_result"
    }
   ],
   "source": [
    "df_temp.head(5)"
   ]
  },
  {
   "cell_type": "markdown",
   "metadata": {},
   "source": [
    "### Merge into the initial DF"
   ]
  },
  {
   "cell_type": "code",
   "execution_count": 16,
   "metadata": {},
   "outputs": [],
   "source": [
    "df = pd.merge(df,df_temp.drop(columns=['first','last','tx_days','T_days']),on=['ID'])"
   ]
  },
  {
   "cell_type": "code",
   "execution_count": 17,
   "metadata": {},
   "outputs": [
    {
     "data": {
      "text/html": [
       "<div>\n",
       "<style scoped>\n",
       "    .dataframe tbody tr th:only-of-type {\n",
       "        vertical-align: middle;\n",
       "    }\n",
       "\n",
       "    .dataframe tbody tr th {\n",
       "        vertical-align: top;\n",
       "    }\n",
       "\n",
       "    .dataframe thead th {\n",
       "        text-align: right;\n",
       "    }\n",
       "</style>\n",
       "<table border=\"1\" class=\"dataframe\">\n",
       "  <thead>\n",
       "    <tr style=\"text-align: right;\">\n",
       "      <th></th>\n",
       "      <th>ID</th>\n",
       "      <th>date</th>\n",
       "      <th>datetime</th>\n",
       "      <th>x</th>\n",
       "      <th>tx</th>\n",
       "      <th>T</th>\n",
       "    </tr>\n",
       "  </thead>\n",
       "  <tbody>\n",
       "    <tr>\n",
       "      <th>0</th>\n",
       "      <td>1</td>\n",
       "      <td>19970101</td>\n",
       "      <td>1997-01-01</td>\n",
       "      <td>2</td>\n",
       "      <td>30.43</td>\n",
       "      <td>38.86</td>\n",
       "    </tr>\n",
       "    <tr>\n",
       "      <th>1</th>\n",
       "      <td>1</td>\n",
       "      <td>19970118</td>\n",
       "      <td>1997-01-18</td>\n",
       "      <td>2</td>\n",
       "      <td>30.43</td>\n",
       "      <td>38.86</td>\n",
       "    </tr>\n",
       "    <tr>\n",
       "      <th>2</th>\n",
       "      <td>1</td>\n",
       "      <td>19970802</td>\n",
       "      <td>1997-08-02</td>\n",
       "      <td>2</td>\n",
       "      <td>30.43</td>\n",
       "      <td>38.86</td>\n",
       "    </tr>\n",
       "    <tr>\n",
       "      <th>3</th>\n",
       "      <td>2</td>\n",
       "      <td>19970101</td>\n",
       "      <td>1997-01-01</td>\n",
       "      <td>1</td>\n",
       "      <td>1.71</td>\n",
       "      <td>38.86</td>\n",
       "    </tr>\n",
       "    <tr>\n",
       "      <th>4</th>\n",
       "      <td>2</td>\n",
       "      <td>19970113</td>\n",
       "      <td>1997-01-13</td>\n",
       "      <td>1</td>\n",
       "      <td>1.71</td>\n",
       "      <td>38.86</td>\n",
       "    </tr>\n",
       "  </tbody>\n",
       "</table>\n",
       "</div>"
      ],
      "text/plain": [
       "   ID      date   datetime  x     tx      T\n",
       "0   1  19970101 1997-01-01  2  30.43  38.86\n",
       "1   1  19970118 1997-01-18  2  30.43  38.86\n",
       "2   1  19970802 1997-08-02  2  30.43  38.86\n",
       "3   2  19970101 1997-01-01  1   1.71  38.86\n",
       "4   2  19970113 1997-01-13  1   1.71  38.86"
      ]
     },
     "execution_count": 17,
     "metadata": {},
     "output_type": "execute_result"
    }
   ],
   "source": [
    "df.head()"
   ]
  },
  {
   "cell_type": "markdown",
   "metadata": {},
   "source": [
    "### Prepare the output df"
   ]
  },
  {
   "cell_type": "code",
   "execution_count": 18,
   "metadata": {},
   "outputs": [],
   "source": [
    "# only unique customers should be stored\n",
    "df_out = df.drop_duplicates(subset=['ID'])"
   ]
  },
  {
   "cell_type": "code",
   "execution_count": 19,
   "metadata": {},
   "outputs": [
    {
     "data": {
      "text/html": [
       "<div>\n",
       "<style scoped>\n",
       "    .dataframe tbody tr th:only-of-type {\n",
       "        vertical-align: middle;\n",
       "    }\n",
       "\n",
       "    .dataframe tbody tr th {\n",
       "        vertical-align: top;\n",
       "    }\n",
       "\n",
       "    .dataframe thead th {\n",
       "        text-align: right;\n",
       "    }\n",
       "</style>\n",
       "<table border=\"1\" class=\"dataframe\">\n",
       "  <thead>\n",
       "    <tr style=\"text-align: right;\">\n",
       "      <th></th>\n",
       "      <th>ID</th>\n",
       "      <th>date</th>\n",
       "      <th>datetime</th>\n",
       "      <th>x</th>\n",
       "      <th>tx</th>\n",
       "      <th>T</th>\n",
       "    </tr>\n",
       "  </thead>\n",
       "  <tbody>\n",
       "    <tr>\n",
       "      <th>0</th>\n",
       "      <td>1</td>\n",
       "      <td>19970101</td>\n",
       "      <td>1997-01-01</td>\n",
       "      <td>2</td>\n",
       "      <td>30.43</td>\n",
       "      <td>38.86</td>\n",
       "    </tr>\n",
       "    <tr>\n",
       "      <th>3</th>\n",
       "      <td>2</td>\n",
       "      <td>19970101</td>\n",
       "      <td>1997-01-01</td>\n",
       "      <td>1</td>\n",
       "      <td>1.71</td>\n",
       "      <td>38.86</td>\n",
       "    </tr>\n",
       "    <tr>\n",
       "      <th>5</th>\n",
       "      <td>3</td>\n",
       "      <td>19970101</td>\n",
       "      <td>1997-01-01</td>\n",
       "      <td>0</td>\n",
       "      <td>0.00</td>\n",
       "      <td>38.86</td>\n",
       "    </tr>\n",
       "    <tr>\n",
       "      <th>6</th>\n",
       "      <td>4</td>\n",
       "      <td>19970101</td>\n",
       "      <td>1997-01-01</td>\n",
       "      <td>0</td>\n",
       "      <td>0.00</td>\n",
       "      <td>38.86</td>\n",
       "    </tr>\n",
       "    <tr>\n",
       "      <th>7</th>\n",
       "      <td>5</td>\n",
       "      <td>19970101</td>\n",
       "      <td>1997-01-01</td>\n",
       "      <td>0</td>\n",
       "      <td>0.00</td>\n",
       "      <td>38.86</td>\n",
       "    </tr>\n",
       "  </tbody>\n",
       "</table>\n",
       "</div>"
      ],
      "text/plain": [
       "   ID      date   datetime  x     tx      T\n",
       "0   1  19970101 1997-01-01  2  30.43  38.86\n",
       "3   2  19970101 1997-01-01  1   1.71  38.86\n",
       "5   3  19970101 1997-01-01  0   0.00  38.86\n",
       "6   4  19970101 1997-01-01  0   0.00  38.86\n",
       "7   5  19970101 1997-01-01  0   0.00  38.86"
      ]
     },
     "execution_count": 19,
     "metadata": {},
     "output_type": "execute_result"
    }
   ],
   "source": [
    "df_out.head()"
   ]
  },
  {
   "cell_type": "code",
   "execution_count": 20,
   "metadata": {},
   "outputs": [],
   "source": [
    "# prepare the output df\n",
    "df_out = df_out.reset_index().drop(columns=['date','datetime','index'])\n",
    "# rename ID column\n",
    "df_out.rename(columns={'ID': 'Customer ID'},inplace=True)\n",
    "# Save into .csv file\n",
    "df_out.to_csv('summary_customers.csv')"
   ]
  },
  {
   "cell_type": "code",
   "execution_count": 21,
   "metadata": {},
   "outputs": [
    {
     "data": {
      "text/html": [
       "<div>\n",
       "<style scoped>\n",
       "    .dataframe tbody tr th:only-of-type {\n",
       "        vertical-align: middle;\n",
       "    }\n",
       "\n",
       "    .dataframe tbody tr th {\n",
       "        vertical-align: top;\n",
       "    }\n",
       "\n",
       "    .dataframe thead th {\n",
       "        text-align: right;\n",
       "    }\n",
       "</style>\n",
       "<table border=\"1\" class=\"dataframe\">\n",
       "  <thead>\n",
       "    <tr style=\"text-align: right;\">\n",
       "      <th></th>\n",
       "      <th>Customer ID</th>\n",
       "      <th>x</th>\n",
       "      <th>tx</th>\n",
       "      <th>T</th>\n",
       "    </tr>\n",
       "  </thead>\n",
       "  <tbody>\n",
       "    <tr>\n",
       "      <th>0</th>\n",
       "      <td>1</td>\n",
       "      <td>2</td>\n",
       "      <td>30.43</td>\n",
       "      <td>38.86</td>\n",
       "    </tr>\n",
       "    <tr>\n",
       "      <th>1</th>\n",
       "      <td>2</td>\n",
       "      <td>1</td>\n",
       "      <td>1.71</td>\n",
       "      <td>38.86</td>\n",
       "    </tr>\n",
       "    <tr>\n",
       "      <th>2</th>\n",
       "      <td>3</td>\n",
       "      <td>0</td>\n",
       "      <td>0.00</td>\n",
       "      <td>38.86</td>\n",
       "    </tr>\n",
       "    <tr>\n",
       "      <th>3</th>\n",
       "      <td>4</td>\n",
       "      <td>0</td>\n",
       "      <td>0.00</td>\n",
       "      <td>38.86</td>\n",
       "    </tr>\n",
       "    <tr>\n",
       "      <th>4</th>\n",
       "      <td>5</td>\n",
       "      <td>0</td>\n",
       "      <td>0.00</td>\n",
       "      <td>38.86</td>\n",
       "    </tr>\n",
       "  </tbody>\n",
       "</table>\n",
       "</div>"
      ],
      "text/plain": [
       "   Customer ID  x     tx      T\n",
       "0            1  2  30.43  38.86\n",
       "1            2  1   1.71  38.86\n",
       "2            3  0   0.00  38.86\n",
       "3            4  0   0.00  38.86\n",
       "4            5  0   0.00  38.86"
      ]
     },
     "execution_count": 21,
     "metadata": {},
     "output_type": "execute_result"
    }
   ],
   "source": [
    "df_out.head()"
   ]
  },
  {
   "cell_type": "code",
   "execution_count": 22,
   "metadata": {},
   "outputs": [],
   "source": [
    "# clean the memory\n",
    "del df_temp"
   ]
  },
  {
   "cell_type": "markdown",
   "metadata": {},
   "source": [
    "To be omplemented\n",
    "* check whether dates are in chronological order, i.e. avoid negative values "
   ]
  },
  {
   "cell_type": "code",
   "execution_count": 23,
   "metadata": {},
   "outputs": [],
   "source": [
    "df_test = pd.read_csv('summary_customers.csv')"
   ]
  },
  {
   "cell_type": "markdown",
   "metadata": {},
   "source": [
    "# Task 3"
   ]
  },
  {
   "cell_type": "markdown",
   "metadata": {},
   "source": [
    "The aim of this assignment is to fit a model to the data, so that predictions about the customers’ purchase behavior in future can be made. The model is defined by four parameters namely r, α, a, b and they are always greater than 0. For fitting the model (i.e. finding the parameters r, α, a, b), Maximum Likelihood Estimation (MLE) can be used."
   ]
  },
  {
   "cell_type": "code",
   "execution_count": 24,
   "metadata": {},
   "outputs": [
    {
     "data": {
      "text/html": [
       "<div>\n",
       "<style scoped>\n",
       "    .dataframe tbody tr th:only-of-type {\n",
       "        vertical-align: middle;\n",
       "    }\n",
       "\n",
       "    .dataframe tbody tr th {\n",
       "        vertical-align: top;\n",
       "    }\n",
       "\n",
       "    .dataframe thead th {\n",
       "        text-align: right;\n",
       "    }\n",
       "</style>\n",
       "<table border=\"1\" class=\"dataframe\">\n",
       "  <thead>\n",
       "    <tr style=\"text-align: right;\">\n",
       "      <th></th>\n",
       "      <th>Customer ID</th>\n",
       "      <th>x</th>\n",
       "      <th>tx</th>\n",
       "      <th>T</th>\n",
       "    </tr>\n",
       "  </thead>\n",
       "  <tbody>\n",
       "    <tr>\n",
       "      <th>0</th>\n",
       "      <td>1</td>\n",
       "      <td>2</td>\n",
       "      <td>30.43</td>\n",
       "      <td>38.86</td>\n",
       "    </tr>\n",
       "    <tr>\n",
       "      <th>1</th>\n",
       "      <td>2</td>\n",
       "      <td>1</td>\n",
       "      <td>1.71</td>\n",
       "      <td>38.86</td>\n",
       "    </tr>\n",
       "    <tr>\n",
       "      <th>2</th>\n",
       "      <td>3</td>\n",
       "      <td>0</td>\n",
       "      <td>0.00</td>\n",
       "      <td>38.86</td>\n",
       "    </tr>\n",
       "    <tr>\n",
       "      <th>3</th>\n",
       "      <td>4</td>\n",
       "      <td>0</td>\n",
       "      <td>0.00</td>\n",
       "      <td>38.86</td>\n",
       "    </tr>\n",
       "    <tr>\n",
       "      <th>4</th>\n",
       "      <td>5</td>\n",
       "      <td>0</td>\n",
       "      <td>0.00</td>\n",
       "      <td>38.86</td>\n",
       "    </tr>\n",
       "  </tbody>\n",
       "</table>\n",
       "</div>"
      ],
      "text/plain": [
       "   Customer ID  x     tx      T\n",
       "0            1  2  30.43  38.86\n",
       "1            2  1   1.71  38.86\n",
       "2            3  0   0.00  38.86\n",
       "3            4  0   0.00  38.86\n",
       "4            5  0   0.00  38.86"
      ]
     },
     "execution_count": 24,
     "metadata": {},
     "output_type": "execute_result"
    }
   ],
   "source": [
    "# load the .csv file\n",
    "df = pd.read_csv('summary_customers.csv',index_col='Unnamed: 0')\n",
    "df.head()"
   ]
  },
  {
   "cell_type": "code",
   "execution_count": 86,
   "metadata": {},
   "outputs": [],
   "source": [
    "# Implementing in the form of class\n",
    "class CustomFunction:\n",
    "    def __init__(self, verbose=False):\n",
    "        \"\"\"Constructor + initialization of the fit parameters\"\"\"\n",
    "        self.verbose = verbose\n",
    "        #initialize model parameters\n",
    "        self.__initialize_par()\n",
    "        \n",
    "    def __obj_f(self, params, df):\n",
    "        \"\"\"Implementation of the objective function.\n",
    "        \n",
    "        NLL = -1/N Sum( lnA1i + lnA2i + ln( exp(lnA3i) + delta exp(lnA4i)) )\n",
    "        \"\"\"\n",
    "        #update parameters\n",
    "        self.__update_params(params)\n",
    "        \n",
    "        #normalise alpha\n",
    "        alpha_norm =self.alpha * self.norm\n",
    "        # protection from negative parameters\n",
    "        if self.r <=0 or self.b <=0 or self.a <= 0 or alpha_norm <= 0:\n",
    "            return np.inf\n",
    "        # number os samples\n",
    "        N = len(df)\n",
    "        # loss function\n",
    "        obj_i = self.__loss(df,self.r,alpha_norm,self.a,self.b)\n",
    "        # protection from the inf values that might arise from division by zero\n",
    "        if obj_i.isin([np.inf]).values.any():\n",
    "            return np.inf\n",
    "        # normalised NLL\n",
    "        out = obj_i.sum() * (-1) / N\n",
    "        \n",
    "        return out\n",
    "    \n",
    "    def __loss(self, df,r,alpha,a,b):\n",
    "        \"\"\"Implementation of the loss function.\n",
    "        \"\"\"\n",
    "        lnA1 = lnG(r+df.x) + r*np.log(alpha) - lnG(r)\n",
    "        lnA2 = lnG(a+b) + lnG(b+df.x) - lnG(b) - lnG(a+b+df.x)\n",
    "        lnA3 = -(r+df.x)*np.log(alpha+df['T'])\n",
    "        lnA4 = np.log(a) - np.log(b+df.x-1) - (r+df.x)*np.log(alpha + df.tx)\n",
    "        deltaA4 = self.__deltaA4(df.x,np.exp(lnA4))\n",
    "        out = lnA1 + lnA2 + np.log(np.exp(lnA3) + deltaA4)\n",
    "        return out\n",
    "    \n",
    "    def __deltaA4(self,x,A4):\n",
    "        \"\"\"Implementation of the delta function.\n",
    "        deltaX = 0 if x <= 0 \n",
    "        deltaX = X otherwise\n",
    "        \"\"\"\n",
    "        A4[x <= 0] = 0\n",
    "        return A4\n",
    "    \n",
    "    def __update_params(self, new_params):\n",
    "        \"\"\"Update model parameters\n",
    "        \"\"\"\n",
    "        self.r = new_params[0].copy()\n",
    "        self.alpha = new_params[1].copy()\n",
    "        self.a = new_params[2].copy()\n",
    "        self.b = new_params[3].copy()\n",
    "    \n",
    "    def __initialize_par(self):\n",
    "        \"\"\"Method to initialize parameters with Gaus(1,0.05)\n",
    "        \"\"\"\n",
    "        self.r, self.alpha, self.a, self.b = np.random.normal(1, 0.05,4)\n",
    "    \n",
    "    def set_r(self, r):\n",
    "        \"\"\"Method to set parameter r\n",
    "        \"\"\"        \n",
    "        if r <= 0: \n",
    "            raise ValueError('r should be positive')\n",
    "        self.r = r\n",
    "        \n",
    "    def set_alpha(self, alpha):\n",
    "        \"\"\"Method to set parameter alpha\n",
    "        \"\"\"\n",
    "        if alpha <= 0: \n",
    "            raise ValueError('alpha should be positive')\n",
    "        self.alpha = alpha\n",
    "    \n",
    "    def set_a(self, a):\n",
    "        \"\"\"Method to set parameter a\n",
    "        \"\"\"        \n",
    "        if a <= 0: \n",
    "            raise ValueError('a should be positive')\n",
    "        self.a = a\n",
    "        \n",
    "    def set_b(self, b):\n",
    "        \"\"\"Method to set parameter b\n",
    "        \"\"\"\n",
    "        if b <= 0: \n",
    "            raise ValueError('b should be positive')\n",
    "        self.b = b\n",
    "    \n",
    "    def set_parameters(self, r, alpha, a, b):\n",
    "        \"\"\"Method to set the fit parameters\n",
    "        \"\"\"\n",
    "        self.set_r(r), self.set_alpha(alpha), self.set_a(a), self.set_b(b)\n",
    "    \n",
    "    def fit(self, df, minimizer_strategy = [(2,'Nelder-Mead')]):\n",
    "        \"\"\"Implementation of the custom minimisation procedure.\n",
    "        \n",
    "        Parameters:\n",
    "        df - pandas DataFrame with the input data of the next format (x,tx,T),\n",
    "        minimizer_strategy - list of pears specifying the minimzersand number of calls to be used\n",
    "        (default [(2,'Nelder-Mead')])\n",
    "        \"\"\"\n",
    "        # check the input data\n",
    "        self.__validate_df(df)\n",
    "        # compute the scalefactor and normalise the data\n",
    "        norm_df = self.__normalise_data(df)\n",
    "        # initial parameters\n",
    "        initial_pars = [self.r,self.alpha,self.a,self.b]\n",
    "    \n",
    "        for num_iter,minimizer in minimizer_strategy:\n",
    "            print('Run ',minimizer)\n",
    "            for i in range(1,num_iter+1):\n",
    "                print('Step ',i)\n",
    "                initial_pars = [self.r,self.alpha,self.a,self.b]\n",
    "                if self.verbose: print('Initialisation: r = ',self.r, ' alpha = ',self.alpha, ' a = ',self.a, ' b = ',self.b)\n",
    "                # perform the minimization\n",
    "                self.fit_res = sp.optimize.minimize(self.__obj_f,x0 = initial_pars,args=(norm_df), method=minimizer) \n",
    "                # update the model parameters\n",
    "                self.__update_params(self.fit_res.x)\n",
    "                if i!= num_iter+1 and self.verbose:\n",
    "                    self.print_final_results()\n",
    "                print('\\n')\n",
    "                \n",
    "    def fit_global(self, df, minimizer_strategy = 'Nelder-Mead',num_iter = 100):\n",
    "        \"\"\"Implementation of the global (brut-force) minima finding algorithm - basinhopping\n",
    "        https://docs.scipy.org/doc/scipy/reference/generated/scipy.optimize.basinhopping.html#scipy.optimize.basinhopping\n",
    "        Large number of iterations is recommended due to a step-based optimisation procedure.\n",
    "        Fit succeed if 15% of num_iter the global minimum candidate remains the same.\n",
    "        \n",
    "        Parameters:\n",
    "        df - pandas DataFrame with the input data of the next format (x,tx,T),\n",
    "        minimizer_strategy - The minimization method (default: Nelder-Mead),\n",
    "        num_iter - number of max iterations (default: 100)\n",
    "        \"\"\"\n",
    "        # check the input data\n",
    "        self.__validate_df(df)\n",
    "        # compute the scalefactor and normalise the data\n",
    "        norm_df = self.__normalise_data(df)\n",
    "        # initial parameters\n",
    "        initial_pars = [self.r,self.alpha,self.a,self.b]\n",
    "        print('********Basin-hopping minimisation********')\n",
    "        if self.verbose: print('Initialisation: r = ',self.r, ' alpha = ',self.alpha, ' a = ',self.a, ' b = ',self.b)\n",
    "        # perform the minimisation\n",
    "        self.fit_res = sp.optimize.basinhopping(self.__obj_f,x0 = initial_pars, \n",
    "                                            minimizer_kwargs={\"method\": minimizer_strategy,'args':(norm_df)},\n",
    "                                            stepsize = 0.05,\n",
    "                                            niter = num_iter,\n",
    "                                            niter_success = int(num_iter*0.15),\n",
    "                                            disp = self.verbose)\n",
    "        # update the model parameters\n",
    "        self.__update_params(self.fit_res.x)\n",
    "    \n",
    "    def __validate_df(self,df):\n",
    "        \"\"\"Method to check whether the input DataFrame contains\n",
    "        required Series (x,xt,T) and free of NaNs\"\"\"\n",
    "        cols = ['x','xt','T']\n",
    "        for c in cols:\n",
    "            if c not in df.columns:\n",
    "                raise ValueError('Column ' + c + ' is missing in the input DataFrame.')\n",
    "    \n",
    "    def __normalise_data(self,df):\n",
    "        \"\"\"Method to normalise parameters tx and T\n",
    "        \"\"\"\n",
    "        df_temp = df.copy()\n",
    "        self.__norm_sf(df)\n",
    "        df_temp['tx']*=self.norm\n",
    "        df_temp['T']*=self.norm\n",
    "        return df_temp\n",
    "    \n",
    "    def __norm_sf(self,df):\n",
    "        \"\"\"Method to compute the normalisation factor\n",
    "        \"\"\"\n",
    "        max_T = df['T'].max()\n",
    "        self.norm = 10./ max_T\n",
    "    \n",
    "    def print_final_results(self):\n",
    "        \"\"\"Method to print final results\n",
    "        \"\"\"\n",
    "        print('*********Minimisation is done*********')\n",
    "        # For some minimzers success and status are not defined\n",
    "        # e.g. doesn't work for basinhopping\n",
    "        try:\n",
    "            print('Success: ',self.fit_res.success)\n",
    "            print('Status: ',self.fit_res.status)\n",
    "        except Exception: pass\n",
    "        print('NLL: ',self.fit_res.fun)\n",
    "        print('Optimized parameters: r = ',self.r, ' alpha = ',self.alpha, ' a = ',self.a, ' b = ',self.b)\n",
    "        if self.verbose:\n",
    "            print(self.fit_res)\n",
    "            \n",
    "    def getFitResults(self):\n",
    "        \"\"\"Method to return the fit results\n",
    "        \"\"\"\n",
    "        try:\n",
    "            return self.fit_res\n",
    "        except Exception:\n",
    "            print('Fit has not been applied yet, no fit result object exist.')\n",
    "            return None\n",
    "    \n",
    "    def getFitParameters(self):\n",
    "        \"\"\"Method to return the fit parameters\n",
    "        \"\"\"\n",
    "        return self.r, self.alpha, self.a, self.b\n"
   ]
  },
  {
   "cell_type": "code",
   "execution_count": 87,
   "metadata": {},
   "outputs": [
    {
     "name": "stdout",
     "output_type": "stream",
     "text": [
      "Fit has not been applied yet, no fit result object exist.\n"
     ]
    },
    {
     "data": {
      "text/plain": [
       "NoneType"
      ]
     },
     "execution_count": 87,
     "metadata": {},
     "output_type": "execute_result"
    }
   ],
   "source": [
    "model1 = CustomFunction(verbose=False)"
   ]
  },
  {
   "cell_type": "markdown",
   "metadata": {},
   "source": [
    "## Minimizers"
   ]
  },
  {
   "cell_type": "markdown",
   "metadata": {},
   "source": [
    "### Nelder-Mead\n",
    "\n",
    "the most robust optimizer in scipy. converges even from not very good starting values\n",
    "Problems: takes a large number of iterations. Can get stuck in almost local minima or stops just short of minimum. Doesn't use gradient for convergence check.\n",
    "\n",
    "\n",
    "### Newton\n",
    "\n",
    "\"newton\" is a simple solver implemented in statsmodels. It includes now a ridge factor to reduce problems with near singular hessian.\n",
    "works well for discrete models, few iterations, uses Hessian\n",
    "problems: breaks if Hessian is not positive definite. Doesn't have line search and might break if gradient is very large at the starting values.\n",
    "\n",
    "### BFGS\n",
    "\n",
    "works well and fast if we are close enough to the minimum. Finds an optimum with very small gradient.\n",
    "problems: can diverge or fail to converge if gradient is large, or shape of function is not \"nice\" during the optimization.\n",
    "\n",
    "### basinhopping\n",
    "\n",
    "Find the global minimum of a function using the basin-hopping algorithm\n",
    "\n",
    "Basin-hopping is a two-phase method that combines a global stepping algorithm with local minimization at each step. Designed to mimic the natural process of energy minimization of clusters of atoms, it works well for similar problems with “funnel-like, but rugged” energy landscapes [5].\n",
    "\n",
    "As the step-taking, step acceptance, and minimization methods are all customizable, this function can also be used to implement other two-phase methods."
   ]
  },
  {
   "cell_type": "code",
   "execution_count": 74,
   "metadata": {},
   "outputs": [
    {
     "name": "stdout",
     "output_type": "stream",
     "text": [
      "********Basin-hopping minimisation********\n",
      "Initialisation: r =  100  alpha =  40  a =  20  b =  30\n"
     ]
    },
    {
     "name": "stderr",
     "output_type": "stream",
     "text": [
      "/anaconda3/lib/python3.6/site-packages/ipykernel_launcher.py:37: RuntimeWarning: invalid value encountered in log\n"
     ]
    },
    {
     "name": "stdout",
     "output_type": "stream",
     "text": [
      "basinhopping step 0: f 2.65055\n",
      "basinhopping step 1: f 2.65055 trial_f 2.65055 accepted 1  lowest_f 2.65055\n",
      "found new global minimum on step 1 with function value 2.65055\n",
      "basinhopping step 2: f 2.65055 trial_f 2.65055 accepted 1  lowest_f 2.65055\n",
      "found new global minimum on step 2 with function value 2.65055\n",
      "basinhopping step 3: f 2.65055 trial_f 2.65055 accepted 1  lowest_f 2.65055\n",
      "basinhopping step 4: f 2.65055 trial_f 2.65055 accepted 1  lowest_f 2.65055\n",
      "basinhopping step 5: f 2.65055 trial_f 2.65055 accepted 1  lowest_f 2.65055\n",
      "found new global minimum on step 5 with function value 2.65055\n",
      "basinhopping step 6: f 2.65055 trial_f 2.65055 accepted 1  lowest_f 2.65055\n",
      "found new global minimum on step 6 with function value 2.65055\n",
      "basinhopping step 7: f 2.65055 trial_f 2.65055 accepted 1  lowest_f 2.65055\n",
      "basinhopping step 8: f 2.65055 trial_f 2.65055 accepted 1  lowest_f 2.65055\n",
      "basinhopping step 9: f 2.65055 trial_f 2.65055 accepted 1  lowest_f 2.65055\n",
      "basinhopping step 10: f 2.65055 trial_f 2.65055 accepted 1  lowest_f 2.65055\n",
      "basinhopping step 11: f 2.65055 trial_f 2.65055 accepted 1  lowest_f 2.65055\n",
      "basinhopping step 12: f 2.65055 trial_f 2.65055 accepted 1  lowest_f 2.65055\n",
      "basinhopping step 13: f 2.65055 trial_f 2.65055 accepted 1  lowest_f 2.65055\n",
      "basinhopping step 14: f 2.65055 trial_f 2.65055 accepted 1  lowest_f 2.65055\n",
      "basinhopping step 15: f 2.65055 trial_f 2.65055 accepted 1  lowest_f 2.65055\n",
      "basinhopping step 16: f 2.65055 trial_f 2.65055 accepted 1  lowest_f 2.65055\n",
      "basinhopping step 17: f 2.65055 trial_f 2.65055 accepted 1  lowest_f 2.65055\n",
      "basinhopping step 18: f 2.65055 trial_f 2.65055 accepted 1  lowest_f 2.65055\n",
      "basinhopping step 19: f 2.65055 trial_f 2.65055 accepted 1  lowest_f 2.65055\n",
      "basinhopping step 20: f 2.65055 trial_f 2.65055 accepted 1  lowest_f 2.65055\n",
      "basinhopping step 21: f 2.65055 trial_f 2.65055 accepted 1  lowest_f 2.65055\n",
      "basinhopping step 22: f 2.65055 trial_f 2.65055 accepted 1  lowest_f 2.65055\n",
      "basinhopping step 23: f 2.65055 trial_f 2.65055 accepted 1  lowest_f 2.65055\n",
      "basinhopping step 24: f 2.65055 trial_f 2.65055 accepted 1  lowest_f 2.65055\n",
      "basinhopping step 25: f 2.65055 trial_f 2.65055 accepted 1  lowest_f 2.65055\n",
      "basinhopping step 26: f 2.65055 trial_f 2.65055 accepted 1  lowest_f 2.65055\n",
      "basinhopping step 27: f 2.65055 trial_f 2.65055 accepted 1  lowest_f 2.65055\n",
      "basinhopping step 28: f 2.65055 trial_f 2.65055 accepted 1  lowest_f 2.65055\n",
      "basinhopping step 29: f 2.65055 trial_f 2.65055 accepted 1  lowest_f 2.65055\n",
      "basinhopping step 30: f 2.65055 trial_f 2.65055 accepted 1  lowest_f 2.65055\n",
      "basinhopping step 31: f 2.65055 trial_f 2.65055 accepted 1  lowest_f 2.65055\n",
      "basinhopping step 32: f 2.65055 trial_f 2.65055 accepted 1  lowest_f 2.65055\n",
      "basinhopping step 33: f 2.65055 trial_f 2.65055 accepted 1  lowest_f 2.65055\n",
      "basinhopping step 34: f 2.65055 trial_f 2.65055 accepted 1  lowest_f 2.65055\n",
      "basinhopping step 35: f 2.65055 trial_f 2.65055 accepted 1  lowest_f 2.65055\n",
      "basinhopping step 36: f 2.65055 trial_f 2.65055 accepted 1  lowest_f 2.65055\n",
      "basinhopping step 37: f 2.65055 trial_f 2.65055 accepted 1  lowest_f 2.65055\n",
      "basinhopping step 38: f 2.65055 trial_f 2.65055 accepted 1  lowest_f 2.65055\n",
      "basinhopping step 39: f 2.65055 trial_f 2.65055 accepted 1  lowest_f 2.65055\n",
      "basinhopping step 40: f 2.65055 trial_f 2.65055 accepted 1  lowest_f 2.65055\n",
      "basinhopping step 41: f 2.65055 trial_f 2.65055 accepted 1  lowest_f 2.65055\n",
      "basinhopping step 42: f 2.65055 trial_f 2.65055 accepted 1  lowest_f 2.65055\n",
      "basinhopping step 43: f 2.65055 trial_f 2.65055 accepted 1  lowest_f 2.65055\n",
      "basinhopping step 44: f 2.65055 trial_f 2.65055 accepted 1  lowest_f 2.65055\n",
      "basinhopping step 45: f 2.65055 trial_f 2.65055 accepted 1  lowest_f 2.65055\n",
      "basinhopping step 46: f 2.65055 trial_f 2.65055 accepted 1  lowest_f 2.65055\n",
      "basinhopping step 47: f 2.65055 trial_f 2.65055 accepted 1  lowest_f 2.65055\n",
      "basinhopping step 48: f 2.65055 trial_f 2.65055 accepted 1  lowest_f 2.65055\n",
      "basinhopping step 49: f 2.65055 trial_f 2.65055 accepted 1  lowest_f 2.65055\n",
      "adaptive stepsize: acceptance rate 0.980000 target 0.500000 new stepsize 0.0555556 old stepsize 0.05\n",
      "basinhopping step 50: f 2.65055 trial_f 2.65055 accepted 1  lowest_f 2.65055\n",
      "basinhopping step 51: f 2.65055 trial_f 2.65055 accepted 1  lowest_f 2.65055\n",
      "basinhopping step 52: f 2.65055 trial_f 2.65055 accepted 1  lowest_f 2.65055\n",
      "*********Minimisation is done*********\n",
      "NLL:  2.6505481706709437\n",
      "Optimized parameters: r =  0.24259264627481958  alpha =  4.413526152184439  a =  0.7928915604848472  b =  2.4257652044205695\n",
      "                        fun: 2.6505481706709437\n",
      " lowest_optimization_result:  final_simplex: (array([[0.24259265, 4.41352615, 0.79289156, 2.4257652 ],\n",
      "       [0.24259385, 4.4135271 , 0.79288445, 2.42572339],\n",
      "       [0.24259262, 4.41352517, 0.79287983, 2.42569381],\n",
      "       [0.24259435, 4.41356456, 0.79288193, 2.42571088],\n",
      "       [0.24259301, 4.41352824, 0.79291995, 2.42586385]]), array([2.65054817, 2.65054817, 2.65054817, 2.65054817, 2.65054817]))\n",
      "           fun: 2.6505481706709437\n",
      "       message: 'Optimization terminated successfully.'\n",
      "          nfev: 181\n",
      "           nit: 105\n",
      "        status: 0\n",
      "       success: True\n",
      "             x: array([0.24259265, 4.41352615, 0.79289156, 2.4257652 ])\n",
      "                    message: ['success condition satisfied']\n",
      "      minimization_failures: 0\n",
      "                       nfev: 10598\n",
      "                        nit: 52\n",
      "                          x: array([0.24259265, 4.41352615, 0.79289156, 2.4257652 ])\n"
     ]
    }
   ],
   "source": [
    "#np.random.seed(1)\n",
    "\n",
    "model = CustomFunction(verbose=True)\n",
    "#model.fit(df,minimizer_strategy=[(2,'Nelder-Mead')])\n",
    "model.fit_global(df,minimizer_strategy='Nelder-Mead',num_iter=300)\n",
    "model.print_final_results()"
   ]
  },
  {
   "cell_type": "code",
   "execution_count": null,
   "metadata": {},
   "outputs": [],
   "source": []
  }
 ],
 "metadata": {
  "kernelspec": {
   "display_name": "Python 3",
   "language": "python",
   "name": "python3"
  },
  "language_info": {
   "codemirror_mode": {
    "name": "ipython",
    "version": 3
   },
   "file_extension": ".py",
   "mimetype": "text/x-python",
   "name": "python",
   "nbconvert_exporter": "python",
   "pygments_lexer": "ipython3",
   "version": "3.6.6"
  },
  "toc": {
   "base_numbering": 1,
   "nav_menu": {},
   "number_sections": true,
   "sideBar": true,
   "skip_h1_title": false,
   "title_cell": "Table of Contents",
   "title_sidebar": "Contents",
   "toc_cell": false,
   "toc_position": {},
   "toc_section_display": true,
   "toc_window_display": true
  }
 },
 "nbformat": 4,
 "nbformat_minor": 2
}
